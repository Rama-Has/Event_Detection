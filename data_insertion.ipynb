{
 "cells": [
  {
   "cell_type": "code",
   "execution_count": 1,
   "metadata": {},
   "outputs": [],
   "source": [
    "from elasticsearch import Elasticsearch, helpers\n",
    "import json, time\n",
    "from dateutil import parser"
   ]
  },
  {
   "attachments": {},
   "cell_type": "markdown",
   "metadata": {},
   "source": [
    "#### Elasticsearch Connection"
   ]
  },
  {
   "cell_type": "code",
   "execution_count": 2,
   "metadata": {},
   "outputs": [],
   "source": [
    "#connect to elasticsearch\n",
    "es_connection = Elasticsearch(\"http://localhost:9200\") "
   ]
  },
  {
   "attachments": {},
   "cell_type": "markdown",
   "metadata": {},
   "source": [
    "#### Mapping"
   ]
  },
  {
   "cell_type": "code",
   "execution_count": null,
   "metadata": {},
   "outputs": [],
   "source": [
    "mappings = {\n",
    "  \"mappings\":{\n",
    "        \"properties\":{\n",
    "            \"id_str\":{\n",
    "                \"type\": \"keyword\"\n",
    "            }, \n",
    "            'hashtags':{\n",
    "                \"type\": \"keyword\"\n",
    "            },\n",
    "            \"text\": {\n",
    "                \"type\": \"text\"\n",
    "            },\n",
    "            \"created_at\": {\n",
    "                \"type\": \"date\",\n",
    "                \"format\": \"strict_date_optional_time\"\n",
    "            }, \n",
    "            \"coordinates\":{\n",
    "                \"type\": \"geo_shape\"\n",
    "            }, \n",
    "        }\n",
    "    }\n",
    "}"
   ]
  },
  {
   "attachments": {},
   "cell_type": "markdown",
   "metadata": {},
   "source": [
    "##### Make sure from the connection"
   ]
  },
  {
   "cell_type": "code",
   "execution_count": null,
   "metadata": {},
   "outputs": [],
   "source": [
    "#remove index if exists\n",
    "es_connection.indices.delete(index = \"tweets_with_mapping2\") \n",
    "#create a new index\n",
    "es_connection.indices.create(index = \"tweets_with_mapping2\", ignore = 400, body = mappings)"
   ]
  },
  {
   "attachments": {},
   "cell_type": "markdown",
   "metadata": {},
   "source": [
    "##### Using bulk insertion to insert the documents to the index "
   ]
  },
  {
   "cell_type": "code",
   "execution_count": 3,
   "metadata": {},
   "outputs": [],
   "source": [
    "file_name = \"./boulder_flood_geolocated_tweets.json\" \n",
    "def gen_data():\n",
    "    counter = 0\n",
    "    for line in open(file_name, 'r', encoding=\"utf8\"):\n",
    "        #get lines from the json file where each line represents a document\n",
    "        doc_as_line = json.loads(line)\n",
    "        #convert the date to an acceptance format to elasticsearch\n",
    "        date_time = parser.parse(doc_as_line['created_at']) \n",
    "        doc_as_line['created_at'] = str(str(date_time.date()) + \"T\" + str(date_time.time()))\n",
    "        hashtags = []\n",
    "        for hashtag in doc_as_line[\"entities\"]['hashtags']:\n",
    "            hashtags.append(hashtag[\"text\"])\n",
    "        yield {  \n",
    "            \"_index\": \"streamed_tweets\",\n",
    "            \"id_str\": doc_as_line[\"id_str\"],\n",
    "            \"text\": doc_as_line[\"text\"],\n",
    "            \"created_at\": doc_as_line[\"created_at\"],\n",
    "            \"coordinates\": doc_as_line[\"coordinates\"],\n",
    "            \"hashtags\": hashtags\n",
    "        }\n",
    "        counter = counter + 1\n",
    "        if counter % 2000 == 0: \n",
    "            time.sleep(10)\n",
    "        "
   ]
  },
  {
   "cell_type": "code",
   "execution_count": null,
   "metadata": {},
   "outputs": [],
   "source": [
    "helpers.bulk(es_connection, gen_data(), chunk_size = 2000) "
   ]
  }
 ],
 "metadata": {
  "kernelspec": {
   "display_name": ".venv",
   "language": "python",
   "name": "python3"
  },
  "language_info": {
   "codemirror_mode": {
    "name": "ipython",
    "version": 3
   },
   "file_extension": ".py",
   "mimetype": "text/x-python",
   "name": "python",
   "nbconvert_exporter": "python",
   "pygments_lexer": "ipython3",
   "version": "3.10.7 (tags/v3.10.7:6cc6b13, Sep  5 2022, 14:08:36) [MSC v.1933 64 bit (AMD64)]"
  },
  "orig_nbformat": 4,
  "vscode": {
   "interpreter": {
    "hash": "8c2c49305260ed94ee7a8395a183ccab6e21714b8088c1ce531d175d82240514"
   }
  }
 },
 "nbformat": 4,
 "nbformat_minor": 2
}
